{
 "cells": [
  {
   "cell_type": "code",
   "execution_count": null,
   "id": "db7084ed",
   "metadata": {},
   "outputs": [],
   "source": [
    "import matplotlib.pyplot as plt\n",
    "import numpy as np\n",
    "import torch\n",
    "from scipy.io import savemat\n",
    "import math\n",
    "from loading_real_wave_noise import loading_real_wave_noise\n",
    "from Reading_path_test import loading_paths_from_MAT\n",
    "from Control_filter_selection_pre_now import Control_filter_selection_pre_now\n",
    "from Control_filter_selection import Control_filter_selection\n",
    "from Fixed_filter_noise_cancellation_subfilters import Fixed_filter_controller\n",
    "from Disturbance_generation import Disturbance_generation_from_real_noise\n",
    "from FxLMS_algorithm import FxLMS, train_fxlms_algorithm\n",
    "\n",
    "print(torch.cuda.is_available())"
   ]
  },
  {
   "cell_type": "code",
   "execution_count": null,
   "id": "ba51dee2",
   "metadata": {},
   "outputs": [],
   "source": [
    "# real noises\n",
    "mdict = {}\n",
    "fs = 16000\n",
    "StepSize = 0.0001\n",
    "sound_name = 'Helicopter'\n",
    "waveform, resample_rate = loading_real_wave_noise(folde_name='Real Noise Examples/', sound_name=sound_name+'.wav')"
   ]
  },
  {
   "cell_type": "code",
   "execution_count": null,
   "id": "186012c4",
   "metadata": {},
   "outputs": [],
   "source": [
    "Pri_path, Secon_path = loading_paths_from_MAT(folder='Pz and Sz', subfolder='Dongyuan', Pri_path_file_name='Primary_path.mat', Sec_path_file_name='Secondary_path.mat')\n",
    "Dis, Fx, Re = Disturbance_generation_from_real_noise(fs=fs, Repet=0, wave_form=waveform, Pri_path=Pri_path, Sec_path=Secon_path)\n",
    "# Dis: disturbance (cotrolled noise)， Fx: fixed-x signal, Re: repeated waveform (primary_noise) Repetition=Repet+1"
   ]
  },
  {
   "cell_type": "code",
   "execution_count": null,
   "id": "26ca88c8",
   "metadata": {},
   "outputs": [],
   "source": [
    "print(waveform.shape)\n",
    "print(Dis.shape)\n",
    "print(Fx.shape)\n",
    "print(Re.shape)\n",
    "\n",
    "import matplotlib as mpl\n",
    "mpl.rcParams['agg.path.chunksize'] = 10000"
   ]
  },
  {
   "cell_type": "code",
   "execution_count": null,
   "id": "aa075328",
   "metadata": {},
   "outputs": [],
   "source": [
    "# GFANC: present frame to predict the next\n",
    "\n",
    "MODEL_PTH = 'models/M6_res_Synthetic.pth'\n",
    "path_mat = 'models/Pretrained_Sub_Control_filters.mat'\n",
    "\n",
    "# prediction index\n",
    "Filter_vector = Control_filter_selection(fs=16000, MODEL_PTH=MODEL_PTH, path_mat=path_mat, Primary_noise=Re.unsqueeze(0), threshold=0.5)\n",
    "\n",
    "Fixed_Cancellation = Fixed_filter_controller(Filter_vector=Filter_vector, fs=16000)\n",
    "ErrorGFANC = Fixed_Cancellation.noise_cancellation(Dis=Dis, Fx=Fx)\n",
    "\n",
    "Time = np.arange(len(Dis))*(1/fs)\n",
    "Time1 = int(len(Dis)/fs)\n",
    "plt.rc('font', size=18, family='Times New Roman') # 将plt画图时字号设置为9字体设置为Times New Roman\n",
    "plt.rc('axes', titlesize=18) # fontsize of the axes title\n",
    "plt.rc('axes', labelsize=18) # fontsize of the x and y labels\n",
    "plt.rc('xtick', labelsize=18) # fontsize of the tick labels\n",
    "plt.rc('ytick', labelsize=18) # fontsize of the tick labels\n",
    "plt.rc('legend', fontsize=15) # legend fontsize\n",
    "plt.rc('figure', titlesize=18) # fontsize of the figure title\n",
    "\n",
    "plt.title('(a) The GFANC Algorithm')\n",
    "plt.plot(Time, Dis, color='blue', label='ANC off')\n",
    "plt.plot(Time, ErrorGFANC, color='orange', label='ANC on')\n",
    "plt.ylabel('Magnitude')\n",
    "plt.xlabel('Time (seconds)')\n",
    "plt.legend()\n",
    "plt.grid()\n",
    "plt.savefig('GFANC.png', dpi=600, bbox_inches='tight', pad_inches=0)\n",
    "plt.show()"
   ]
  },
  {
   "cell_type": "code",
   "execution_count": null,
   "id": "0fc13e38",
   "metadata": {},
   "outputs": [],
   "source": [
    "# SFANC\n",
    "\n",
    "from scipy.io import loadmat\n",
    "\n",
    "mat_contents = loadmat('SFANC_Error.mat')\n",
    "ErrorSFANC = mat_contents['Error']\n",
    "ErrorSFANC = ErrorSFANC[0]"
   ]
  },
  {
   "cell_type": "code",
   "execution_count": null,
   "id": "fe6e24d3",
   "metadata": {},
   "outputs": [],
   "source": [
    "# FxLMS\n",
    "\n",
    "controller = FxLMS(Len=1024) # 1024 is the same size of coeffient vector of fixed-filter\n",
    "ErrorFxLMS = train_fxlms_algorithm(Model=controller, Ref=Fx, Disturbance=Dis, Stepsize=StepSize) # torch.Size([320000])\n",
    "\n",
    "plt.title('(c) The FxLMS Algorithm')\n",
    "plt.plot(Time, Dis, color='blue', label='ANC off')\n",
    "plt.plot(Time, ErrorFxLMS, color='green', label='ANC on')\n",
    "plt.ylabel('Magnitude')\n",
    "plt.xlabel('Time (seconds)')\n",
    "plt.legend()\n",
    "plt.grid()\n",
    "plt.savefig('FxLMS.png', dpi=600, bbox_inches='tight', pad_inches=0)\n",
    "plt.show()"
   ]
  },
  {
   "cell_type": "code",
   "execution_count": null,
   "id": "8c8e3e3b",
   "metadata": {},
   "outputs": [],
   "source": [
    "# compare the Noise_Reduction_Level in every second\n",
    "\n",
    "def Noise_Reduction_Level_Compute(Disturbance, Error):\n",
    "    Power_dis = 10*np.log10(np.var(Disturbance))\n",
    "    Power_err = 10*np.log10(np.var(Error))\n",
    "    NR_level = Power_dis - Power_err\n",
    "    return NR_level\n",
    "\n",
    "if torch.is_tensor(Dis):\n",
    "    Dis = Dis.numpy() # tensor to numpy\n",
    "if torch.is_tensor(ErrorGFANC):\n",
    "    ErrorGFANC = ErrorGFANC.numpy()\n",
    "\n",
    "a, b, c = [], [], []\n",
    "a.append(Dis[0])\n",
    "b.append(Dis[0])\n",
    "c.append(Dis[0])\n",
    "Time1 = int(len(Dis)/fs)\n",
    "for t in range(Time1):\n",
    "    a.append(Noise_Reduction_Level_Compute(Dis[t*fs:(t+1)*fs], ErrorGFANC[t*fs:(t+1)*fs]))\n",
    "    b.append(Noise_Reduction_Level_Compute(Dis[t*fs:(t+1)*fs], ErrorSFANC[t*fs:(t+1)*fs]))\n",
    "    c.append(Noise_Reduction_Level_Compute(Dis[t*fs:(t+1)*fs], ErrorFxLMS[t*fs:(t+1)*fs]))\n",
    "    \n",
    "plt.title('(d) Averaged Noise Reduction Level of Every 1s')\n",
    "plt.step(range(0,Time1+1), c, color='green', label='FxLMS')\n",
    "plt.step(range(0,Time1+1), b, color='blue', label='SFANC')\n",
    "plt.step(range(0,Time1+1), a, color='red', label='GFANC')\n",
    "plt.ylabel('Noise Reduction Level (dB)')\n",
    "plt.xlabel('Time (seconds)')\n",
    "plt.xticks(range(0, Time1+1, 1)) # the interval in x\n",
    "plt.legend()\n",
    "plt.grid()\n",
    "plt.savefig('Noise_Reduction_Level.png', dpi=600, bbox_inches='tight', pad_inches=0)\n",
    "plt.show()"
   ]
  }
 ],
 "metadata": {
  "kernelspec": {
   "display_name": "Python 3 (ipykernel)",
   "language": "python",
   "name": "python3"
  },
  "language_info": {
   "codemirror_mode": {
    "name": "ipython",
    "version": 3
   },
   "file_extension": ".py",
   "mimetype": "text/x-python",
   "name": "python",
   "nbconvert_exporter": "python",
   "pygments_lexer": "ipython3",
   "version": "3.9.7"
  }
 },
 "nbformat": 4,
 "nbformat_minor": 5
}
