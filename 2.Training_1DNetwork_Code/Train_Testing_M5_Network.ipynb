{
 "cells": [
  {
   "cell_type": "code",
   "execution_count": null,
   "metadata": {},
   "outputs": [],
   "source": [
    "from Train_validate import Train_Validate_CNN\n",
    "from Testing_M5_Network_original import Test_model_accuracy_original, Output_Test_Error_Samples\n",
    "from Bcolors import bcolors\n",
    "import os\n",
    "import torch\n",
    "import matplotlib.pyplot as plt\n",
    "import numpy as np\n",
    " \n",
    "print(\"number of GPUs:\", torch.cuda.device_count())"
   ]
  },
  {
   "cell_type": "code",
   "execution_count": null,
   "metadata": {},
   "outputs": [],
   "source": [
    "# Training and validating a new CNN model\n",
    "\n",
    "Folder_name_list_of_data_set=['Dataset/Synthesized_Dataset/Training_data', 'Dataset/Synthesized_Dataset/Validate_data', 'Dataset/Synthesized_Dataset/Testing_data']\n",
    "MODEL_PTH = 'models/M6_res_Synthetic.pth'\n",
    "File_sheet = 'Hard_Index.csv'\n",
    "acc_train, acc_validate, train_loss_epochs, validate_loss_epochs = Train_Validate_CNN(TRIAN_DATASET_FILE=Folder_name_list_of_data_set[0]\n",
    "                                                            , VALIDATION_DATASET_FILE=Folder_name_list_of_data_set[1]\n",
    "                                                            , MODEL_PTH=MODEL_PTH, File_sheet=File_sheet)"
   ]
  },
  {
   "cell_type": "code",
   "execution_count": null,
   "metadata": {},
   "outputs": [],
   "source": [
    "plt.plot(np.arange(len(train_loss_epochs)),train_loss_epochs, marker='.', markersize=10, color='r',label='training_loss')\n",
    "plt.plot(np.arange(len(validate_loss_epochs)),validate_loss_epochs, marker='.', markersize=10, color='g',label='validation_loss')\n",
    "plt.ylabel('Loss')\n",
    "plt.xlabel('Epoches')\n",
    "plt.legend()\n",
    "plt.savefig('Training_loss.png', dpi=600, bbox_inches='tight', pad_inches=0)\n",
    "plt.show()"
   ]
  },
  {
   "cell_type": "code",
   "execution_count": null,
   "metadata": {},
   "outputs": [],
   "source": [
    "# Testing the trained CNN model on the testing dataset.\n",
    "\n",
    "MODEL_PTH = 'models/M6_res_Synthetic.pth'\n",
    "\n",
    "Folder_name_list_of_data_set=['Dataset/Synthesized_Dataset/Training_data', 'Dataset/Synthesized_Dataset/Validate_data', 'Dataset/Synthesized_Dataset/Testing_data']\n",
    "File_sheet = 'Hard_Index.csv'\n",
    "if os.path.exists(MODEL_PTH):\n",
    "    acc = Test_model_accuracy_original(TESTING_DATASET_FILE=Folder_name_list_of_data_set[2]\n",
    "                                      , MODLE_PTH=MODEL_PTH, File_sheet=File_sheet)\n",
    "    repot = bcolors.OKGREEN  + f' The accuracy on testing datast is {acc}' + bcolors.ENDC\n",
    "    print(repot)\n",
    "else:\n",
    "    print(bcolors.FAIL + MODEL_PTH + ' does not exsit !' + bcolors.ENDC)"
   ]
  },
  {
   "cell_type": "code",
   "execution_count": null,
   "metadata": {},
   "outputs": [],
   "source": [
    "# Output the test error samples by the pre-trained network\n",
    "\n",
    "MODEL_PTH = 'models/M6_res_Synthetic.pth'\n",
    "\n",
    "Folder_name_list_of_data_set=['Dataset/Synthesized_Dataset/Training_data', 'Dataset/Synthesized_Dataset/Validate_data', 'Dataset/Synthesized_Dataset/Testing_data']\n",
    "File_sheet = 'Hard_Index.csv'\n",
    "if os.path.exists(MODEL_PTH):\n",
    "    acc = Output_Test_Error_Samples(TESTING_DATASET_FILE=Folder_name_list_of_data_set[2]\n",
    "                                      , MODLE_PTH=MODEL_PTH, File_sheet=File_sheet)\n",
    "    repot = bcolors.OKGREEN  + f' The accuracy on testing datast is {acc}' + bcolors.ENDC\n",
    "    print(repot)\n",
    "else:\n",
    "    print(bcolors.FAIL + MODEL_PTH + ' does not exsit !' + bcolors.ENDC)"
   ]
  }
 ],
 "metadata": {
  "kernelspec": {
   "display_name": "Python 3 (ipykernel)",
   "language": "python",
   "name": "python3"
  },
  "language_info": {
   "codemirror_mode": {
    "name": "ipython",
    "version": 3
   },
   "file_extension": ".py",
   "mimetype": "text/x-python",
   "name": "python",
   "nbconvert_exporter": "python",
   "pygments_lexer": "ipython3",
   "version": "3.9.7"
  }
 },
 "nbformat": 4,
 "nbformat_minor": 4
}
